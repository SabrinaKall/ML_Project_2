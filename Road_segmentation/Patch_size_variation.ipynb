{
 "cells": [
  {
   "cell_type": "markdown",
   "metadata": {},
   "source": [
    "# The given default Classifier (Logistic Regression), but varying patch size\n"
   ]
  },
  {
   "cell_type": "code",
   "execution_count": 1,
   "metadata": {},
   "outputs": [],
   "source": [
    "%matplotlib inline\n",
    "import matplotlib.image as mpimg\n",
    "import numpy as np\n",
    "import matplotlib.pyplot as plt\n",
    "import os,sys\n",
    "from PIL import Image\n",
    "from mask_to_submission import *\n",
    "import pandas as pd\n",
    "\n",
    "from sklearn import linear_model\n",
    "from sklearn import model_selection\n",
    "from sklearn import metrics\n",
    "from sklearn.model_selection import cross_val_score"
   ]
  },
  {
   "cell_type": "code",
   "execution_count": 2,
   "metadata": {},
   "outputs": [],
   "source": [
    "# Helper functions\n",
    "\n",
    "def load_image(infilename):\n",
    "    data = mpimg.imread(infilename)\n",
    "    return data\n",
    "\n",
    "def img_float_to_uint8(img):\n",
    "    rimg = img - np.min(img)\n",
    "    rimg = (rimg / np.max(rimg) * 255).round().astype(np.uint8)\n",
    "    return rimg\n",
    "\n",
    "# Concatenate an image and its groundtruth\n",
    "def concatenate_images(img, gt_img):\n",
    "    nChannels = len(gt_img.shape)\n",
    "    w = gt_img.shape[0]\n",
    "    h = gt_img.shape[1]\n",
    "    if nChannels == 3:\n",
    "        cimg = np.concatenate((img, gt_img), axis=1)\n",
    "    else:\n",
    "        gt_img_3c = np.zeros((w, h, 3), dtype=np.uint8)\n",
    "        gt_img8 = img_float_to_uint8(gt_img)          \n",
    "        gt_img_3c[:,:,0] = gt_img8\n",
    "        gt_img_3c[:,:,1] = gt_img8\n",
    "        gt_img_3c[:,:,2] = gt_img8\n",
    "        img8 = img_float_to_uint8(img)\n",
    "        cimg = np.concatenate((img8, gt_img_3c), axis=1)\n",
    "    return cimg\n",
    "\n",
    "def img_crop(im, w, h):\n",
    "    list_patches = []\n",
    "    imgwidth = im.shape[0]\n",
    "    imgheight = im.shape[1]\n",
    "    is_2d = len(im.shape) < 3\n",
    "    for i in range(0,imgheight,h):\n",
    "        for j in range(0,imgwidth,w):\n",
    "            if is_2d:\n",
    "                im_patch = im[j:j+w, i:i+h]\n",
    "            else:\n",
    "                im_patch = im[j:j+w, i:i+h, :]\n",
    "            list_patches.append(im_patch)\n",
    "    return list_patches"
   ]
  },
  {
   "cell_type": "code",
   "execution_count": 3,
   "metadata": {},
   "outputs": [
    {
     "name": "stdout",
     "output_type": "stream",
     "text": [
      "Loading 100 images\n",
      "satImage_001.png\n",
      "Loading 100 images\n",
      "satImage_001.png\n"
     ]
    }
   ],
   "source": [
    "# Loaded a set of images\n",
    "root_dir = \"training/\"\n",
    "\n",
    "image_dir = root_dir + \"images/\"\n",
    "files = os.listdir(image_dir)\n",
    "n = len(files) # Load maximum 20 images\n",
    "print(\"Loading \" + str(n) + \" images\")\n",
    "imgs = [load_image(image_dir + files[i]) for i in range(n)]\n",
    "print(files[0])\n",
    "\n",
    "gt_dir = root_dir + \"groundtruth/\"\n",
    "print(\"Loading \" + str(n) + \" images\")\n",
    "gt_imgs = [load_image(gt_dir + files[i]) for i in range(n)]\n",
    "print(files[0])\n",
    "\n",
    "#n = 40 # Only use 10 images for training"
   ]
  },
  {
   "cell_type": "code",
   "execution_count": 4,
   "metadata": {},
   "outputs": [],
   "source": [
    "# Extract 6-dimensional features consisting of average RGB color as well as variance\n",
    "def extract_features(img):\n",
    "    feat_m = np.mean(img, axis=(0,1))\n",
    "    feat_v = np.var(img, axis=(0,1))\n",
    "    feat = np.append(feat_m, feat_v)\n",
    "    return feat\n",
    "\n",
    "# Extract 2-dimensional features consisting of average gray color as well as variance\n",
    "def extract_features_2d(img):\n",
    "    feat_m = np.mean(img)\n",
    "    feat_v = np.var(img)\n",
    "    feat = np.append(feat_m, feat_v)\n",
    "    return feat\n",
    "\n",
    "# Extract features for a given image\n",
    "def extract_img_features(filename):\n",
    "    img = load_image(filename)\n",
    "    img_patches = img_crop(img, patch_size, patch_size)\n",
    "    X = np.asarray([ extract_features_2d(img_patches[i]) for i in range(len(img_patches))])\n",
    "    return X\n",
    "\n",
    "def value_to_class(v):\n",
    "    df = np.sum(v)\n",
    "    if df > foreground_threshold:\n",
    "        return 1\n",
    "    else:\n",
    "        return 0"
   ]
  },
  {
   "cell_type": "code",
   "execution_count": 5,
   "metadata": {},
   "outputs": [],
   "source": [
    "# Extract patches from input images\n",
    "def compute_best_f1_for_patch_size(patch_size):\n",
    "\n",
    "    img_patches = [img_crop(imgs[i], patch_size, patch_size) for i in range(n)]\n",
    "    gt_patches = [img_crop(gt_imgs[i], patch_size, patch_size) for i in range(n)]\n",
    "\n",
    "    # Linearize list of patches\n",
    "    img_patches = np.asarray([img_patches[i][j] for i in range(len(img_patches)) for j in range(len(img_patches[i]))])\n",
    "    gt_patches =  np.asarray([gt_patches[i][j] for i in range(len(gt_patches)) for j in range(len(gt_patches[i]))])\n",
    "\n",
    "    # Compute features for each image patch\n",
    "    foreground_threshold = 0.25 # percentage of pixels > 1 required to assign a foreground label to a patch\n",
    "\n",
    "    X = np.asarray([ extract_features_2d(img_patches[i]) for i in range(len(img_patches))])\n",
    "    Y = np.asarray([value_to_class(np.mean(gt_patches[i])) for i in range(len(gt_patches))])\n",
    "    \n",
    "    # train a logistic regression classifier\n",
    "    X_train, X_test, y_train, y_test = model_selection.train_test_split(X, Y, test_size=0.20, random_state=42)\n",
    "\n",
    "    # we create an instance of the classifier and fit the data\n",
    "    classifier = linear_model.LogisticRegression(C=1e5, class_weight=\"balanced\")\n",
    "    classifier.fit(X_train, y_train)\n",
    "\n",
    "    #Train-Test split\n",
    "    k = 40\n",
    "    f1 = cross_val_score(classifier, X, Y, cv=k, scoring=\"f1\")\n",
    "    \n",
    "    return f1.mean()"
   ]
  },
  {
   "cell_type": "code",
   "execution_count": 6,
   "metadata": {},
   "outputs": [
    {
     "ename": "NameError",
     "evalue": "name 'classifier' is not defined",
     "output_type": "error",
     "traceback": [
      "\u001b[1;31m---------------------------------------------------------------------------\u001b[0m",
      "\u001b[1;31mNameError\u001b[0m                                 Traceback (most recent call last)",
      "\u001b[1;32m<ipython-input-6-9a6380405007>\u001b[0m in \u001b[0;36m<module>\u001b[1;34m()\u001b[0m\n\u001b[0;32m      2\u001b[0m \u001b[0mscores\u001b[0m \u001b[1;33m=\u001b[0m \u001b[1;33m[\u001b[0m\u001b[1;33m]\u001b[0m\u001b[1;33m\u001b[0m\u001b[0m\n\u001b[0;32m      3\u001b[0m \u001b[1;32mfor\u001b[0m \u001b[0mi\u001b[0m \u001b[1;32min\u001b[0m \u001b[0mrange\u001b[0m\u001b[1;33m(\u001b[0m\u001b[1;36m16\u001b[0m\u001b[1;33m,\u001b[0m \u001b[1;36m128\u001b[0m\u001b[1;33m,\u001b[0m \u001b[1;36m4\u001b[0m\u001b[1;33m)\u001b[0m\u001b[1;33m:\u001b[0m\u001b[1;33m\u001b[0m\u001b[0m\n\u001b[1;32m----> 4\u001b[1;33m     \u001b[0mf1\u001b[0m \u001b[1;33m=\u001b[0m \u001b[0mcompute_best_f1_for_patch_size\u001b[0m\u001b[1;33m(\u001b[0m\u001b[0mi\u001b[0m\u001b[1;33m)\u001b[0m\u001b[1;33m\u001b[0m\u001b[0m\n\u001b[0m\u001b[0;32m      5\u001b[0m     \u001b[0mpatches\u001b[0m\u001b[1;33m.\u001b[0m\u001b[0mappend\u001b[0m\u001b[1;33m(\u001b[0m\u001b[0mi\u001b[0m\u001b[1;33m)\u001b[0m\u001b[1;33m\u001b[0m\u001b[0m\n\u001b[0;32m      6\u001b[0m     \u001b[0mscores\u001b[0m\u001b[1;33m.\u001b[0m\u001b[0mappend\u001b[0m\u001b[1;33m(\u001b[0m\u001b[0mf1\u001b[0m\u001b[1;33m)\u001b[0m\u001b[1;33m\u001b[0m\u001b[0m\n",
      "\u001b[1;32m<ipython-input-5-16332832038a>\u001b[0m in \u001b[0;36mcompute_best_f1_for_patch_size\u001b[1;34m(patch_size)\u001b[0m\n\u001b[0;32m     17\u001b[0m     \u001b[1;31m#Train-Test split\u001b[0m\u001b[1;33m\u001b[0m\u001b[1;33m\u001b[0m\u001b[0m\n\u001b[0;32m     18\u001b[0m     \u001b[0mk\u001b[0m \u001b[1;33m=\u001b[0m \u001b[1;36m40\u001b[0m\u001b[1;33m\u001b[0m\u001b[0m\n\u001b[1;32m---> 19\u001b[1;33m     \u001b[0mf1\u001b[0m \u001b[1;33m=\u001b[0m \u001b[0mcross_val_score\u001b[0m\u001b[1;33m(\u001b[0m\u001b[0mclassifier\u001b[0m\u001b[1;33m,\u001b[0m \u001b[0mX\u001b[0m\u001b[1;33m,\u001b[0m \u001b[0mY\u001b[0m\u001b[1;33m,\u001b[0m \u001b[0mcv\u001b[0m\u001b[1;33m=\u001b[0m\u001b[0mk\u001b[0m\u001b[1;33m,\u001b[0m \u001b[0mscoring\u001b[0m\u001b[1;33m=\u001b[0m\u001b[1;34m\"f1\"\u001b[0m\u001b[1;33m)\u001b[0m\u001b[1;33m\u001b[0m\u001b[0m\n\u001b[0m\u001b[0;32m     20\u001b[0m \u001b[1;33m\u001b[0m\u001b[0m\n\u001b[0;32m     21\u001b[0m     \u001b[1;32mreturn\u001b[0m \u001b[0mf1\u001b[0m\u001b[1;33m.\u001b[0m\u001b[0mmean\u001b[0m\u001b[1;33m(\u001b[0m\u001b[1;33m)\u001b[0m\u001b[1;33m\u001b[0m\u001b[0m\n",
      "\u001b[1;31mNameError\u001b[0m: name 'classifier' is not defined"
     ]
    }
   ],
   "source": [
    "patches = []\n",
    "scores = []\n",
    "for i in range(16, 128, 4):\n",
    "    f1 = compute_best_f1_for_patch_size(i)\n",
    "    patches.append(i)\n",
    "    scores.append(f1)\n",
    "    "
   ]
  },
  {
   "cell_type": "code",
<<<<<<< HEAD
   "execution_count": 13,
   "metadata": {},
   "outputs": [
    {
     "data": {
      "text/plain": [
       "<matplotlib.axes._subplots.AxesSubplot at 0x7f4e68ce3cf8>"
      ]
     },
     "execution_count": 13,
     "metadata": {},
     "output_type": "execute_result"
    },
    {
     "data": {
      "image/png": "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\n",
      "text/plain": [
       "<Figure size 432x288 with 1 Axes>"
      ]
     },
     "metadata": {},
     "output_type": "display_data"
    }
   ],
=======
   "execution_count": null,
   "metadata": {},
   "outputs": [],
>>>>>>> a1a10351caa997494457a05e265bf3e25298dd76
   "source": [
    "d = {'Patch Size': patches, 'F1 Score': scores}\n",
    "df = pd.DataFrame(d)\n",
    "df.plot(x='Patch Size')"
   ]
  },
  {
   "cell_type": "code",
<<<<<<< HEAD
   "execution_count": 8,
   "metadata": {},
   "outputs": [
    {
     "data": {
      "text/plain": [
       "Patch Size    40.000000\n",
       "F1 Score       0.560676\n",
       "Name: 6, dtype: float64"
      ]
     },
     "execution_count": 8,
     "metadata": {},
     "output_type": "execute_result"
    }
   ],
   "source": [
    "df.loc[df['F1 Score'].idxmax()]"
   ]
=======
   "execution_count": null,
   "metadata": {},
   "outputs": [],
   "source": [
    "df.loc[df['F1 Score'].idxmax()]"
   ]
  },
  {
   "cell_type": "code",
   "execution_count": null,
   "metadata": {},
   "outputs": [],
   "source": [
    "# Convert array of labels to an image\n",
    "\n",
    "def label_to_img(imgwidth, imgheight, w, h, labels):\n",
    "    im = np.zeros([imgwidth, imgheight])\n",
    "    idx = 0\n",
    "    for i in range(0,imgheight,h):\n",
    "        for j in range(0,imgwidth,w):\n",
    "            im[j:j+w, i:i+h] = labels[idx]\n",
    "            idx = idx + 1\n",
    "    return im\n",
    "\n",
    "def make_img_overlay(img, predicted_img):\n",
    "    w = img.shape[0]\n",
    "    h = img.shape[1]\n",
    "    color_mask = np.zeros((w, h, 3), dtype=np.uint8)\n",
    "    color_mask[:,:,0] = predicted_img*255\n",
    "\n",
    "    img8 = img_float_to_uint8(img)\n",
    "    background = Image.fromarray(img8, 'RGB').convert(\"RGBA\")\n",
    "    overlay = Image.fromarray(color_mask, 'RGB').convert(\"RGBA\")\n",
    "    new_img = Image.blend(background, overlay, 0.2)\n",
    "    return new_img\n",
    "    "
   ]
  },
  {
   "cell_type": "code",
   "execution_count": null,
   "metadata": {},
   "outputs": [],
   "source": [
    "#Create prediction images using all the test images\n",
    "def binary_to_uint8(img):\n",
    "    rimg = (img * 255).round().astype(np.uint8)\n",
    "    return rimg\n",
    "\n",
    "def create_submission(classifier):\n",
    "    test_img_dir = 'test_set_images/'\n",
    "    for img_idx in range(1, 51):\n",
    "\n",
    "        test_img_dir_i = test_img_dir + 'test_' + str(img_idx) + '/'\n",
    "        test_files = os.listdir(test_img_dir_i)\n",
    "        img = load_image(test_img_dir_i + test_files[0])\n",
    "\n",
    "        Xi = extract_img_features(test_img_dir_i + test_files[0])\n",
    "        Zi = classifier.predict(Xi)\n",
    "        w = img.shape[0]\n",
    "        h = img.shape[1]\n",
    "        predicted_im = label_to_img(w, h, patch_size, patch_size, Zi)\n",
    "        #cimg = concatenate_images(imgs[img_idx], predicted_im)\n",
    "        Image.fromarray(binary_to_uint8(predicted_im)).save('predictions/prediction_' + '%.3d' % img_idx + '.png')"
   ]
  },
  {
   "cell_type": "code",
   "execution_count": null,
   "metadata": {},
   "outputs": [],
   "source": [
    "create_submission(classifier)\n",
    "#then launch python3 mask_to_submission.py from terminal"
   ]
>>>>>>> a1a10351caa997494457a05e265bf3e25298dd76
  }
 ],
 "metadata": {
  "kernelspec": {
   "display_name": "Python 3",
   "language": "python",
   "name": "python3"
  },
  "language_info": {
   "codemirror_mode": {
    "name": "ipython",
    "version": 3
   },
   "file_extension": ".py",
   "mimetype": "text/x-python",
   "name": "python",
   "nbconvert_exporter": "python",
   "pygments_lexer": "ipython3",
   "version": "3.6.5"
  }
 },
 "nbformat": 4,
 "nbformat_minor": 2
}
