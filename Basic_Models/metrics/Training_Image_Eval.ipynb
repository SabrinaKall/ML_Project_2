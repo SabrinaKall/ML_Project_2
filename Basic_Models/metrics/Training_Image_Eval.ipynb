{
 "cells": [
  {
   "cell_type": "markdown",
   "metadata": {},
   "source": [
    "# Examine the expected labels for the training set\n",
    "\n",
    "We check out the composition of our expected classification, using a csv file of labels for the training images."
   ]
  },
  {
   "cell_type": "code",
   "execution_count": 1,
   "metadata": {},
   "outputs": [],
   "source": [
    "import pandas as pd"
   ]
  },
  {
   "cell_type": "code",
   "execution_count": 2,
   "metadata": {},
   "outputs": [],
   "source": [
    "labels = pd.read_csv('groundtruth.csv')"
   ]
  },
  {
   "cell_type": "code",
   "execution_count": 3,
   "metadata": {},
   "outputs": [],
   "source": [
    "nb_road_labels = len(labels[labels['prediction'] == 1])\n",
    "nb_nonroad_labels = len(labels[labels['prediction'] == 0])\n",
    "nb_total_labels = len(labels)\n",
    "\n",
    "road_percentage = nb_road_labels/nb_total_labels"
   ]
  },
  {
   "cell_type": "code",
   "execution_count": 4,
   "metadata": {},
   "outputs": [
    {
     "name": "stdout",
     "output_type": "stream",
     "text": [
      "Road:  16191\n",
      "Other:  46309\n",
      "Total 62500\n",
      "Percentage road:  0.259056\n"
     ]
    }
   ],
   "source": [
    "print(\"Road: \", nb_road_labels)\n",
    "print(\"Other: \", nb_nonroad_labels)\n",
    "print(\"Total\", nb_total_labels)\n",
    "print(\"Percentage road: \", road_percentage)"
   ]
  },
  {
   "cell_type": "markdown",
   "metadata": {},
   "source": [
    "The class imbalance is low enough that optimizing accuracy can still yield a good F1 score."
   ]
  }
 ],
 "metadata": {
  "kernelspec": {
   "display_name": "Python 3",
   "language": "python",
   "name": "python3"
  },
  "language_info": {
   "codemirror_mode": {
    "name": "ipython",
    "version": 3
   },
   "file_extension": ".py",
   "mimetype": "text/x-python",
   "name": "python",
   "nbconvert_exporter": "python",
   "pygments_lexer": "ipython3",
   "version": "3.6.5"
  }
 },
 "nbformat": 4,
 "nbformat_minor": 2
}
