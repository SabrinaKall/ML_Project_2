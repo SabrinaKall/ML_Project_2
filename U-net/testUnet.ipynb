{
 "cells": [
  {
   "cell_type": "markdown",
   "metadata": {},
   "source": [
    "# Create image predictions using the NN checkpoint"
   ]
  },
  {
   "cell_type": "code",
   "execution_count": null,
   "metadata": {},
   "outputs": [],
   "source": [
    "from model import *\n",
    "from data import *"
   ]
  },
  {
   "cell_type": "code",
   "execution_count": null,
   "metadata": {},
   "outputs": [],
   "source": [
    "testGene = testGenerator(\"data/roadsegmentation/test\", 50, (608, 608))\n",
    "model = unet(pretrained_weights=\"unet_roads.hdf5\", input_size = (608,608,1))\n",
    "results = model.predict_generator(testGene,50,verbose=1)\n",
    "saveResult(\"data/roadsegmentation/test/predictions\",results)"
   ]
  },
  {
   "cell_type": "code",
   "execution_count": null,
   "metadata": {},
   "outputs": [],
   "source": [
    "testGene = testGenerator(\"data/roadsegmentation/test/train_check\", 1)\n",
    "model = unet(pretrained_weights=\"unet_roads.hdf5\")\n",
    "results = model.predict_generator(testGene,1,verbose=1)\n",
    "saveResult(\"data/roadsegmentation/test/train_check\",results)"
   ]
  }
 ],
 "metadata": {
  "kernelspec": {
   "display_name": "Python 3",
   "language": "python",
   "name": "python3"
  },
  "language_info": {
   "codemirror_mode": {
    "name": "ipython",
    "version": 3
   },
   "file_extension": ".py",
   "mimetype": "text/x-python",
   "name": "python",
   "nbconvert_exporter": "python",
   "pygments_lexer": "ipython3",
   "version": "3.6.5"
  }
 },
 "nbformat": 4,
 "nbformat_minor": 2
}
